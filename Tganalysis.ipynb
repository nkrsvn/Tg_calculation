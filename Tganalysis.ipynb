{
 "cells": [
  {
   "cell_type": "code",
   "execution_count": 50,
   "id": "fba0e2da",
   "metadata": {},
   "outputs": [],
   "source": [
    "import numpy as np\n",
    "from scipy import optimize\n",
    "from scipy.stats import linregress\n",
    "import matplotlib.pyplot as plt\n",
    "\n",
    "%matplotlib inline"
   ]
  },
  {
   "cell_type": "code",
   "execution_count": 51,
   "id": "ecd24e6d",
   "metadata": {},
   "outputs": [],
   "source": [
    "import os\n",
    "import glob\n",
    "from collections import defaultdict\n",
    "\n",
    "import pandas as pd"
   ]
  },
  {
   "cell_type": "raw",
   "id": "f11d259f",
   "metadata": {},
   "source": [
    "d = {'key1': 'value1', '14000': ['t1', 't2', 't3'], 2: 454}"
   ]
  },
  {
   "cell_type": "code",
   "execution_count": 52,
   "id": "f3d9484f",
   "metadata": {
    "scrolled": true
   },
   "outputs": [
    {
     "name": "stdout",
     "output_type": "stream",
     "text": [
      ".\\Cool_26000_1\\log.lammps\n",
      ".\\Cool_26000_2\\log.lammps\n",
      ".\\Cool_26000_3\\log.lammps\n",
      ".\\Cool_38000_1\\log.lammps\n",
      ".\\Cool_38000_2\\log.lammps\n",
      ".\\Cool_38000_3\\log.lammps\n",
      ".\\Cool_50000_1\\log.lammps\n",
      ".\\Cool_50000_2\\log.lammps\n",
      ".\\Cool_50000_3\\log.lammps\n"
     ]
    }
   ],
   "source": [
    "#Нахожу .log файлы во всех папках Cool_p_N:\n",
    "collected_data = defaultdict(list)\n",
    "\n",
    "for f in glob.glob('./Cool_*/log.lammps'):\n",
    "    print(f)\n",
    "\n",
    "    pressure = f.split('_')[1]\n",
    "\n",
    "    with open(f, 'r') as inp:\n",
    "        for i, line in enumerate(inp):\n",
    "            if line.startswith('Per MPI rank'):\n",
    "                startline = i\n",
    "            if line.startswith('Loop time'):\n",
    "                endline = i\n",
    "\n",
    "    df_T_and_density = pd.read_csv(\n",
    "        f,\n",
    "        skiprows=startline + 1,\n",
    "        skipfooter=i - endline + 1,\n",
    "        sep='\\s+',\n",
    "        engine='python'\n",
    "    )\n",
    "\n",
    "    collected_data[pressure].append(df_T_and_density[['Temp', 'Density']])"
   ]
  },
  {
   "cell_type": "code",
   "execution_count": 53,
   "id": "10298e35",
   "metadata": {},
   "outputs": [
    {
     "data": {
      "text/html": [
       "<div>\n",
       "<style scoped>\n",
       "    .dataframe tbody tr th:only-of-type {\n",
       "        vertical-align: middle;\n",
       "    }\n",
       "\n",
       "    .dataframe tbody tr th {\n",
       "        vertical-align: top;\n",
       "    }\n",
       "\n",
       "    .dataframe thead th {\n",
       "        text-align: right;\n",
       "    }\n",
       "</style>\n",
       "<table border=\"1\" class=\"dataframe\">\n",
       "  <thead>\n",
       "    <tr style=\"text-align: right;\">\n",
       "      <th></th>\n",
       "      <th>Temp</th>\n",
       "      <th>Density</th>\n",
       "    </tr>\n",
       "  </thead>\n",
       "  <tbody>\n",
       "    <tr>\n",
       "      <th>0</th>\n",
       "      <td>598.62231</td>\n",
       "      <td>1.011242</td>\n",
       "    </tr>\n",
       "    <tr>\n",
       "      <th>1</th>\n",
       "      <td>603.10185</td>\n",
       "      <td>1.017114</td>\n",
       "    </tr>\n",
       "    <tr>\n",
       "      <th>2</th>\n",
       "      <td>599.38540</td>\n",
       "      <td>1.021972</td>\n",
       "    </tr>\n",
       "    <tr>\n",
       "      <th>3</th>\n",
       "      <td>598.04668</td>\n",
       "      <td>1.018371</td>\n",
       "    </tr>\n",
       "    <tr>\n",
       "      <th>4</th>\n",
       "      <td>588.24348</td>\n",
       "      <td>1.025757</td>\n",
       "    </tr>\n",
       "    <tr>\n",
       "      <th>...</th>\n",
       "      <td>...</td>\n",
       "      <td>...</td>\n",
       "    </tr>\n",
       "    <tr>\n",
       "      <th>396</th>\n",
       "      <td>205.37828</td>\n",
       "      <td>1.148124</td>\n",
       "    </tr>\n",
       "    <tr>\n",
       "      <th>397</th>\n",
       "      <td>203.38073</td>\n",
       "      <td>1.153982</td>\n",
       "    </tr>\n",
       "    <tr>\n",
       "      <th>398</th>\n",
       "      <td>200.47763</td>\n",
       "      <td>1.153204</td>\n",
       "    </tr>\n",
       "    <tr>\n",
       "      <th>399</th>\n",
       "      <td>202.19981</td>\n",
       "      <td>1.151527</td>\n",
       "    </tr>\n",
       "    <tr>\n",
       "      <th>400</th>\n",
       "      <td>201.31497</td>\n",
       "      <td>1.152280</td>\n",
       "    </tr>\n",
       "  </tbody>\n",
       "</table>\n",
       "<p>401 rows × 2 columns</p>\n",
       "</div>"
      ],
      "text/plain": [
       "          Temp   Density\n",
       "0    598.62231  1.011242\n",
       "1    603.10185  1.017114\n",
       "2    599.38540  1.021972\n",
       "3    598.04668  1.018371\n",
       "4    588.24348  1.025757\n",
       "..         ...       ...\n",
       "396  205.37828  1.148124\n",
       "397  203.38073  1.153982\n",
       "398  200.47763  1.153204\n",
       "399  202.19981  1.151527\n",
       "400  201.31497  1.152280\n",
       "\n",
       "[401 rows x 2 columns]"
      ]
     },
     "execution_count": 53,
     "metadata": {},
     "output_type": "execute_result"
    }
   ],
   "source": [
    "#Делаю таблицу Температура - Плотность по всем данным для указанного давления:\n",
    "collected_data['50000'][2]"
   ]
  },
  {
   "cell_type": "code",
   "execution_count": 54,
   "id": "48df1de1",
   "metadata": {},
   "outputs": [],
   "source": [
    "collected_data = {k: pd.concat(df_list, axis=0) for k, df_list in collected_data.items()}"
   ]
  },
  {
   "cell_type": "code",
   "execution_count": 55,
   "id": "436f5dbb",
   "metadata": {},
   "outputs": [
    {
     "data": {
      "text/plain": [
       "<AxesSubplot:xlabel='Temp', ylabel='Density'>"
      ]
     },
     "execution_count": 55,
     "metadata": {},
     "output_type": "execute_result"
    },
    {
     "data": {
      "image/png": "[encoded data removed]",
      "text/plain": [
       "<Figure size 432x288 with 1 Axes>"
      ]
     },
     "metadata": {
      "needs_background": "light"
     },
     "output_type": "display_data"
    }
   ],
   "source": [
    "#Рисую график Температура - Плотность по всем точкам для данного давления:\n",
    "collected_data['50000'].plot.scatter(x='Temp', y='Density', )"
   ]
  },
  {
   "cell_type": "code",
   "execution_count": 56,
   "id": "080c4358",
   "metadata": {},
   "outputs": [
    {
     "name": "stdout",
     "output_type": "stream",
     "text": [
      "26000\n",
      "38000\n",
      "50000\n"
     ]
    }
   ],
   "source": [
    "#Смотрю, какие давления вообще есть:\n",
    "for p, T_ro_df in collected_data.items():\n",
    "    print(p)"
   ]
  },
  {
   "cell_type": "code",
   "execution_count": 57,
   "id": "6263bda1",
   "metadata": {},
   "outputs": [],
   "source": [
    "#Снова выбираю давление:\n",
    "df = collected_data['50000']"
   ]
  },
  {
   "cell_type": "code",
   "execution_count": 58,
   "id": "946a5de8",
   "metadata": {},
   "outputs": [],
   "source": [
    "#Усредняю значения плотности с интервалом 5К по всем данным для выбранного давления:\n",
    "t_range = 5\n",
    "averaging_interval = max(1, t_range)\n",
    "\n",
    "q = int((df['Temp'].max() - df['Temp'].min())/averaging_interval)\n",
    "df['interval'] = pd.qcut(df['Temp'], q, precision=2)\n",
    "df['t_interval'] = df['interval'].apply(lambda i: f'{i.mid:.1f}')\n",
    "\n",
    "averaged_df = df.groupby('t_interval')['Density'].mean().reset_index()\n",
    "averaged_df['t'] = averaged_df['t_interval'].astype(float)\n",
    "averaged_df['interval'] = range(1, q+1)"
   ]
  },
  {
   "cell_type": "code",
   "execution_count": 59,
   "id": "fb08b3a6",
   "metadata": {},
   "outputs": [
    {
     "data": {
      "image/png": "[encoded data removed]",
      "text/plain": [
       "<Figure size 720x216 with 1 Axes>"
      ]
     },
     "metadata": {
      "needs_background": "light"
     },
     "output_type": "display_data"
    }
   ],
   "source": [
    "#Рисую график Температура - Плотность по усредненным данным:\n",
    "averaged_df.plot.scatter(x='t', y='Density', figsize=(10, 3))\n",
    "_ = plt.xticks(rotation=90)"
   ]
  },
  {
   "cell_type": "raw",
   "id": "5043bf33",
   "metadata": {},
   "source": [
    "averaged_df['t'].min() + 100, averaged_df['t'].max() - 50"
   ]
  },
  {
   "cell_type": "raw",
   "id": "a2c81765",
   "metadata": {},
   "source": [
    "thresholds"
   ]
  },
  {
   "cell_type": "code",
   "execution_count": 60,
   "id": "337a6b81",
   "metadata": {},
   "outputs": [],
   "source": [
    "#Определяю границы будущих линий тренда - беру слева 100К и увеличиваю диапазон, мониторя RMSD. Справа - то же самое, только начиная с 50К, т.к. температура стеклования у нас почти всегда будет с правой стороны графика:\n",
    "fit_check = {}\n",
    "N_point_min = 10\n",
    "\n",
    "best_sum_fit_error = float('inf')\n",
    "best_split_threshold = (0.0, 0.0)\n",
    "\n",
    "dts = np.arange(0, 50, averaging_interval)\n",
    "t_range_min = averaged_df['t'].min()\n",
    "t_range_max = averaged_df['t'].max()\n",
    "thresholds = [\n",
    "    (v1, v2) for v1, v2 in zip(\n",
    "        dts + t_range_min + 100,\n",
    "        t_range_max - 50 - dts\n",
    "    )\n",
    "]\n",
    "\n",
    "for left_threshold, right_threshold in thresholds:\n",
    "    \n",
    "    if left_threshold > right_threshold:\n",
    "        print('left_threshold > right_threshold')\n",
    "        continue\n",
    "\n",
    "    left_x, left_y = averaged_df[averaged_df['t'] <= left_threshold][['t', 'Density']].values.T\n",
    "    right_x, right_y = averaged_df[averaged_df['t'] >= right_threshold][['t', 'Density']].values.T\n",
    "\n",
    "    n_point_left = len(left_x)\n",
    "    n_point_right = len(right_x)\n",
    "\n",
    "    if min(n_point_left, n_point_right) < N_point_min:\n",
    "        print(f'at thresholds ({left_threshold:.1f}, {right_threshold:.1f}) not enough point in one of the split parts: ({n_point_left}, {n_point_right})')\n",
    "        continue\n",
    "\n",
    "    left_linefit = linregress(left_x, left_y)\n",
    "    right_linefit = linregress(right_x, right_y)\n",
    "    sum_fit_error = left_linefit.stderr + right_linefit.stderr\n",
    "    if sum_fit_error < best_sum_fit_error:\n",
    "        best_sum_fit_error = sum_fit_error\n",
    "        best_split_threshold = (left_threshold, right_threshold)\n",
    "        left_intercept, left_slope, left_R = left_linefit.intercept, left_linefit.slope, left_linefit.rvalue**2\n",
    "        right_intercept, right_slope, right_R = right_linefit.intercept, right_linefit.slope, right_linefit.rvalue**2\n",
    "\n",
    "    fit_check[(left_threshold, right_threshold)] = {'left_linefit.stderr': left_linefit.stderr,\n",
    "                            'right_linefit.stderr': right_linefit.stderr,\n",
    "                            'sum_fit_error': sum_fit_error,\n",
    "                            'n_point_left': n_point_left,\n",
    "                            'n_point_right': n_point_right,}"
   ]
  },
  {
   "cell_type": "code",
   "execution_count": 61,
   "id": "8a94ef3c",
   "metadata": {
    "scrolled": false
   },
   "outputs": [
    {
     "name": "stdout",
     "output_type": "stream",
     "text": [
      "best_sum_fit_error: 2.1323574269744658e-05 at threshold: (347.6, 506.9)\n"
     ]
    },
    {
     "data": {
      "image/png": "[encoded data removed]",
      "text/plain": [
       "<Figure size 432x288 with 1 Axes>"
      ]
     },
     "metadata": {
      "needs_background": "light"
     },
     "output_type": "display_data"
    }
   ],
   "source": [
    "#Рисую RMSD при разных границах линии тренда:\n",
    "print(f'best_sum_fit_error: {best_sum_fit_error} at threshold: {best_split_threshold}')\n",
    "pd.DataFrame(fit_check).T.plot(y='sum_fit_error', lw=2, c='k')\n",
    "_ = plt.xticks(rotation=90)"
   ]
  },
  {
   "cell_type": "code",
   "execution_count": 62,
   "id": "cd963b27",
   "metadata": {},
   "outputs": [
    {
     "data": {
      "text/plain": [
       "(1.2010196655389738, -0.00023904679355857023, 0.9916401987370136)"
      ]
     },
     "execution_count": 62,
     "metadata": {},
     "output_type": "execute_result"
    }
   ],
   "source": [
    "#Определяю точку пересечения линий тренда - температуру стеклования:\n",
    "left_intercept, left_slope, left_R"
   ]
  },
  {
   "cell_type": "code",
   "execution_count": 63,
   "id": "13a73eb5",
   "metadata": {},
   "outputs": [
    {
     "data": {
      "text/plain": [
       "(1.2918799695978307, -0.00045191942089293157, 0.9760326231484856)"
      ]
     },
     "execution_count": 63,
     "metadata": {},
     "output_type": "execute_result"
    }
   ],
   "source": [
    "right_intercept, right_slope, right_R"
   ]
  },
  {
   "cell_type": "code",
   "execution_count": 64,
   "id": "81da2d68",
   "metadata": {},
   "outputs": [
    {
     "data": {
      "text/plain": [
       "426.8294387898997"
      ]
     },
     "execution_count": 64,
     "metadata": {},
     "output_type": "execute_result"
    }
   ],
   "source": [
    "slope = left_slope - right_slope\n",
    "inter = right_intercept - left_intercept\n",
    "Tg = inter/slope\n",
    "Tg"
   ]
  },
  {
   "cell_type": "code",
   "execution_count": 66,
   "id": "37a75b94",
   "metadata": {},
   "outputs": [
    {
     "data": {
      "text/plain": [
       "<matplotlib.legend.Legend at 0x23f015f5670>"
      ]
     },
     "execution_count": 66,
     "metadata": {},
     "output_type": "execute_result"
    },
    {
     "data": {
      "image/png": "[encoded data removed]",
      "text/plain": [
       "<Figure size 288x216 with 1 Axes>"
      ]
     },
     "metadata": {
      "needs_background": "light"
     },
     "output_type": "display_data"
    }
   ],
   "source": [
    "#Рисую график с линиями тренда\n",
    "df.plot.scatter(x='Temp', y='Density', figsize=(4, 3))\n",
    "ymin = 0.99*df['Density'].min()\n",
    "ymax = 1.01*df['Density'].max()\n",
    "\n",
    "t_range = np.arange(t_range_min, t_range_max, 1)\n",
    "plt.plot(t_range, left_intercept + left_slope*t_range, 'darkred', label='до Tg', lw=3)\n",
    "plt.plot(t_range, right_intercept + right_slope*t_range, 'darkblue', label='после Tg', lw=3)\n",
    "plt.ylim(ymin, ymax)\n",
    "plt.vlines(Tg, ymin, ymax, colors='orange', linestyles='--', label=f'Tg: {int(Tg)}K', lw=2)\n",
    "plt.title('ПЭС-185; давление при отжиге: 50000 атм')\n",
    "plt.xlabel('Температура, К')\n",
    "plt.ylabel('$Плотность, г/см^3$')\n",
    "plt.legend()"
   ]
  },
  {
   "cell_type": "code",
   "execution_count": null,
   "id": "12ff8763",
   "metadata": {},
   "outputs": [],
   "source": []
  },
  {
   "cell_type": "code",
   "execution_count": null,
   "id": "b488305b",
   "metadata": {},
   "outputs": [],
   "source": []
  },
  {
   "cell_type": "code",
   "execution_count": null,
   "id": "88fdc5fe",
   "metadata": {},
   "outputs": [],
   "source": []
  },
  {
   "cell_type": "code",
   "execution_count": null,
   "id": "b38f9fb5",
   "metadata": {},
   "outputs": [],
   "source": []
  }
 ],
 "metadata": {
  "kernelspec": {
   "display_name": "Python 3 (ipykernel)",
   "language": "python",
   "name": "python3"
  },
  "language_info": {
   "codemirror_mode": {
    "name": "ipython",
    "version": 3
   },
   "file_extension": ".py",
   "mimetype": "text/x-python",
   "name": "python",
   "nbconvert_exporter": "python",
   "pygments_lexer": "ipython3",
   "version": "3.8.0"
  }
 },
 "nbformat": 4,
 "nbformat_minor": 5
}
